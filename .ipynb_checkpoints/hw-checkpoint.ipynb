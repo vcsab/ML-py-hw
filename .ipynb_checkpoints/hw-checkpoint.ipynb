{
 "cells": [
  {
   "cell_type": "code",
   "execution_count": 16,
   "metadata": {
    "scrolled": false
   },
   "outputs": [
    {
     "name": "stdout",
     "output_type": "stream",
     "text": [
      "Train set:  (1367, 4)\n",
      "Test set:  (586, 4)\n",
      "\n",
      "Recall: 0.7006578947368421\n",
      "Precision: 0.5144927536231884\n",
      "F1 score: 0.5933147632311977\n"
     ]
    }
   ],
   "source": [
    "import numpy as np\n",
    "import random\n",
    "import csv\n",
    "\n",
    "data = []\n",
    "\n",
    "# Betöltés\n",
    "with open('data.csv','r', encoding=\"utf-8\") as f:\n",
    "    csvreader = csv.DictReader(f)\n",
    "    for item in csvreader:\n",
    "        data.append([ item['DATE'], item['AUTHOR'], item['CONTENT'], item['CLASS'] ])\n",
    "\n",
    "# A 'data' tömb elemei: ['dátum string', 'szerző', 'komment', 'osztály cimke ('0': nem spam, '1': spam)']\n",
    "        \n",
    "# Train/test szétválasztás\n",
    "split = 0.7\n",
    "data = np.asarray(data)\n",
    "perm = np.random.permutation(len(data))\n",
    "\n",
    "train = data[perm][0:int(len(data)*split)]\n",
    "test = data[perm][int(len(data)*split):]\n",
    "\n",
    "print('Train set: ', np.shape(train))\n",
    "print('Test set: ', np.shape(test))\n",
    "\n",
    "# Buta osztályozó\n",
    "def dumb_classify(data):\n",
    "    threshold = 0.3\n",
    "    if random.random() > threshold:\n",
    "        return '1'\n",
    "    else:\n",
    "        return '0'\n",
    "\n",
    "\n",
    "# Használd a 'train' adatokat az osztályozó módszer kidolgozására, a 'test' adatokat kiértékelésére!\n",
    "# Lehetőleg használj gépi tanulást!\n",
    "# Dokumentáld az érdekesnek tartott kísérleteket is!\n",
    "\n",
    "# Példa kiértékelés 'recall' számításával. \n",
    "# Kérdés: Milyen egyéb metrikát használnál kiértékelésre és miért? \n",
    "\n",
    "# Kibővítve\n",
    "\n",
    "sum_positive = 0\n",
    "# True Positive\n",
    "found_positive = 0\n",
    "sum_negative = 0\n",
    "# True Negative\n",
    "found_negative = 0\n",
    "\n",
    "false_negative = 0\n",
    "false_positive = 0\n",
    "\n",
    "for datapoint in test:\n",
    "    if datapoint[-1] == '1':\n",
    "        sum_positive += 1\n",
    "        if dumb_classify(datapoint) == '1':\n",
    "            found_positive += 1\n",
    "        else:\n",
    "            false_negative += 1\n",
    "    else:\n",
    "        sum_negative += 1\n",
    "        if dumb_classify(datapoint) == '0':\n",
    "            found_negative += 1\n",
    "        else:\n",
    "            false_positive += 1\n",
    "            \n",
    "# A Recall megmutatja hogy az osztályozó mekkora eséllyel ismeri fel a releváns elemeket   \n",
    "rnd_rec = found_positive / sum_positive\n",
    "print('\\nRecall:', rnd_rec)\n",
    "\n",
    "# Egyéb metrika:\n",
    "\n",
    "# Precision\n",
    "# Ez a metrika mutatja hogy az osztályozó mely esetekben ismerte fel helyesen a relevánsnak talált elemeket\n",
    "rnd_prec = found_positive / (found_positive + false_positive)\n",
    "print('Precision:', rnd_prec)\n",
    "\n",
    "# F1 score\n",
    "# Ez mutatja hogy milyen jól teljesít osztályozó az összes elemet figyelembe véve\n",
    "rnd_f1 = 2 * (rnd_prec * rnd_rec) / (rnd_prec + rnd_rec)\n",
    "print('F1 score:', rnd_f1 )"
   ]
  },
  {
   "cell_type": "markdown",
   "metadata": {
    "raw_mimetype": "text/markdown"
   },
   "source": [
    "# Első kísérlet: SVM"
   ]
  },
  {
   "cell_type": "code",
   "execution_count": 2,
   "metadata": {},
   "outputs": [
    {
     "name": "stdout",
     "output_type": "stream",
     "text": [
      "             precision    recall  f1-score   support\n",
      "\n",
      "          0       0.95      0.96      0.95       272\n",
      "          1       0.96      0.95      0.96       314\n",
      "\n",
      "avg / total       0.96      0.96      0.96       586\n",
      "\n"
     ]
    }
   ],
   "source": [
    "# X és y előállítása\n",
    "# X a tanuló adatokat tartalmazza\n",
    "# A nekünk fontos adat a kommentek szövege (CONTENT)\n",
    "# y a klasszifikáció, jelen esetben hogy spam-e vagy nem (CLASS)\n",
    "\n",
    "\n",
    "train_X = []\n",
    "train_y = []\n",
    "test_X = []\n",
    "test_y = []\n",
    "\n",
    "def loader(dataset, A, b, datarow, classrow):\n",
    "    for item in dataset:\n",
    "        A.append(item[datarow])\n",
    "        b.append(item[classrow])\n",
    "    \n",
    "loader(train, train_X, train_y, 2, 3)\n",
    "loader(test, test_X, test_y, 2, 3)\n",
    "\n",
    "# SVM\n",
    "\n",
    "from sklearn import metrics, svm\n",
    "from sklearn.pipeline import Pipeline\n",
    "from sklearn.feature_extraction.text import CountVectorizer\n",
    "from sklearn.feature_extraction.text import CountVectorizer, TfidfVectorizer, TfidfTransformer\n",
    "\n",
    "# Pipeline segítségével összefűzhetjük a szükséges átalakításokat\n",
    "# Jelen esetben a kommenteket fel kell bontani szavakra (tokenizálás) és ezeknek a szavaknak a vektorára van szükség\n",
    "# Ezután megvizsgáljuk az egyes szavak gyakoriságát\n",
    "# Az SVM ezek segítségével egy olyan modellt alkot meg ami azt vizsgálja, \n",
    "# hogy milyen szavak fordulnak elő gyakran a spam kommentekben\n",
    "\n",
    "# A modell betanítása\n",
    "def train_svm(kernel=\"linear\"):\n",
    "    model_pipeline = Pipeline([('cnts', CountVectorizer()),\n",
    "                               ('tfidf', TfidfTransformer()),\n",
    "                               ('clf', svm.SVC(kernel=kernel, random_state=42))])\n",
    "    \n",
    "    model_pipeline.fit(train_X, train_y)\n",
    "    \n",
    "    return model_pipeline\n",
    "\n",
    "# A modell alkalmazása\n",
    "# Itt a tanítóhalmazon betanított modellt alkalmazzuk a teszthalmazra\n",
    "def test_svm(kernel=\"linear\"):\n",
    "    model = train_svm(kernel=kernel)\n",
    "    predictions = model.predict(test_X)\n",
    "    \n",
    "    return predictions\n",
    "\n",
    "# Metrikák\n",
    "print(metrics.classification_report(test_y, test_svm(\"linear\")))"
   ]
  },
  {
   "cell_type": "code",
   "execution_count": 3,
   "metadata": {},
   "outputs": [
    {
     "name": "stdout",
     "output_type": "stream",
     "text": [
      "             precision    recall  f1-score   support\n",
      "\n",
      "          0       0.50      0.83      0.63       272\n",
      "          1       0.67      0.29      0.41       314\n",
      "\n",
      "avg / total       0.59      0.54      0.51       586\n",
      "\n"
     ]
    }
   ],
   "source": [
    "# Próbáljuk ki hogy az SVM segítségével a kommentelő neve szerint vizsgáljuk hogy spam-e valami\n",
    "# Valószínűleg nincs erős összefüggés\n",
    "\n",
    "train_X = []\n",
    "train_y = []\n",
    "test_X = []\n",
    "test_y = []\n",
    "\n",
    "loader(train, train_X, train_y, 1, 3)\n",
    "loader(test, test_X, test_y, 1, 3)\n",
    "\n",
    "print(metrics.classification_report(test_y, test_svm(\"linear\")))"
   ]
  },
  {
   "cell_type": "markdown",
   "metadata": {
    "collapsed": true
   },
   "source": [
    "# Második kísérlet: Többrétegű perceptron (MLP)"
   ]
  },
  {
   "cell_type": "code",
   "execution_count": 51,
   "metadata": {},
   "outputs": [
    {
     "name": "stdout",
     "output_type": "stream",
     "text": [
      "             precision    recall  f1-score   support\n",
      "\n",
      "          0       0.94      0.97      0.95       282\n",
      "          1       0.97      0.94      0.95       304\n",
      "\n",
      "avg / total       0.95      0.95      0.95       586\n",
      "\n"
     ]
    }
   ],
   "source": [
    "# Az MLP irányított gráfok összekapcsolt rétegeiből áll\n",
    "# Jelen esetben egyetlen rejtett réteggel próbáljuk ki\n",
    "# Ez a modell jobban paraméterezhető az SVM-nél és több mindent kipróbálhatunk\n",
    "\n",
    "from sklearn.neural_network import MLPClassifier \n",
    "\n",
    "train_X = []\n",
    "train_y = []\n",
    "test_X = []\n",
    "test_y = []\n",
    "\n",
    "loader(train, train_X, train_y, 2, 3)\n",
    "loader(test, test_X, test_y, 2, 3)\n",
    "\n",
    "def train_mlp(bsize):\n",
    "    model_pipeline = Pipeline([('cnts', CountVectorizer()),\n",
    "                               ('tfidf', TfidfTransformer()),\n",
    "                               ('clf', MLPClassifier(hidden_layer_sizes=100, activation=\"relu\", solver=\"adam\",\n",
    "                                                    random_state=42, early_stopping=True, max_iter=1000,  \n",
    "                                                     batch_size=bsize))])\n",
    "    \n",
    "    model_pipeline.fit(train_X, train_y)\n",
    "    \n",
    "    return model_pipeline\n",
    "\n",
    "def test_mlp(bsize):\n",
    "    model = train_mlp(bsize)\n",
    "    predictions = model.predict(test_X)\n",
    "    \n",
    "    return predictions\n",
    "\n",
    "def train_mlp2(funcact):\n",
    "    model_pipeline = Pipeline([('cnts', CountVectorizer()),\n",
    "                               ('tfidf', TfidfTransformer()),\n",
    "                               ('clf', MLPClassifier(hidden_layer_sizes=100, activation=funcact, solver=\"adam\",\n",
    "                                                    random_state=42, early_stopping=True, max_iter=1000  \n",
    "                                                     ))])\n",
    "    \n",
    "    model_pipeline.fit(train_X, train_y)\n",
    "    \n",
    "    return model_pipeline\n",
    "\n",
    "def test_mlp2(funcact):\n",
    "    model = train_mlp2(funcact)\n",
    "    predictions = model.predict(test_X)\n",
    "    \n",
    "    return predictions\n",
    "    \n",
    "print(metrics.classification_report(test_y, test_mlp(\"auto\")))"
   ]
  },
  {
   "cell_type": "code",
   "execution_count": 41,
   "metadata": {},
   "outputs": [
    {
     "name": "stdout",
     "output_type": "stream",
     "text": [
      "             precision    recall  f1-score   support\n",
      "\n",
      "          0       0.96      0.97      0.97       282\n",
      "          1       0.97      0.96      0.97       304\n",
      "\n",
      "avg / total       0.97      0.97      0.97       586\n",
      "\n"
     ]
    }
   ],
   "source": [
    "# Vizsgáljuk meg a paramétereket\n",
    "\n",
    "# A batch size valószínűleg csak a módszer sebességét befolyásolja, a pontosságot nem\n",
    "# Itt kis számokra lassabb lesz\n",
    "# A default érték min(200, n_samples)\n",
    "\n",
    "print(metrics.classification_report(test_y, test_mlp(1)))"
   ]
  },
  {
   "cell_type": "code",
   "execution_count": 42,
   "metadata": {},
   "outputs": [
    {
     "name": "stdout",
     "output_type": "stream",
     "text": [
      "             precision    recall  f1-score   support\n",
      "\n",
      "          0       0.92      0.98      0.95       282\n",
      "          1       0.98      0.92      0.95       304\n",
      "\n",
      "avg / total       0.95      0.95      0.95       586\n",
      "\n"
     ]
    }
   ],
   "source": [
    "print(metrics.classification_report(test_y, test_mlp(10)))"
   ]
  },
  {
   "cell_type": "code",
   "execution_count": 43,
   "metadata": {},
   "outputs": [
    {
     "name": "stdout",
     "output_type": "stream",
     "text": [
      "             precision    recall  f1-score   support\n",
      "\n",
      "          0       0.94      0.97      0.96       282\n",
      "          1       0.97      0.94      0.96       304\n",
      "\n",
      "avg / total       0.96      0.96      0.96       586\n",
      "\n"
     ]
    }
   ],
   "source": [
    "print(metrics.classification_report(test_y, test_mlp(50)))"
   ]
  },
  {
   "cell_type": "code",
   "execution_count": 44,
   "metadata": {},
   "outputs": [
    {
     "name": "stdout",
     "output_type": "stream",
     "text": [
      "             precision    recall  f1-score   support\n",
      "\n",
      "          0       0.93      0.96      0.95       282\n",
      "          1       0.97      0.94      0.95       304\n",
      "\n",
      "avg / total       0.95      0.95      0.95       586\n",
      "\n"
     ]
    }
   ],
   "source": [
    "print(metrics.classification_report(test_y, test_mlp(150)))"
   ]
  },
  {
   "cell_type": "code",
   "execution_count": 52,
   "metadata": {},
   "outputs": [
    {
     "name": "stdout",
     "output_type": "stream",
     "text": [
      "             precision    recall  f1-score   support\n",
      "\n",
      "          0       0.96      0.93      0.94       282\n",
      "          1       0.93      0.96      0.95       304\n",
      "\n",
      "avg / total       0.95      0.95      0.95       586\n",
      "\n"
     ]
    }
   ],
   "source": [
    "# Következőnek kipróbálhatjuk az activation function cseréjét\n",
    "# Ezt a függvényt használja a rejtett réteg\n",
    "\n",
    "# Első lehetőség: Identity/Azonos f(x)=x\n",
    "\n",
    "# Hasonló hatékonyságú az előzőekhez\n",
    "\n",
    "print(metrics.classification_report(test_y, test_mlp2(\"identity\")))"
   ]
  },
  {
   "cell_type": "code",
   "execution_count": 53,
   "metadata": {},
   "outputs": [
    {
     "name": "stdout",
     "output_type": "stream",
     "text": [
      "             precision    recall  f1-score   support\n",
      "\n",
      "          0       1.00      0.05      0.09       282\n",
      "          1       0.53      1.00      0.69       304\n",
      "\n",
      "avg / total       0.76      0.54      0.40       586\n",
      "\n"
     ]
    }
   ],
   "source": [
    "# Logistic\n",
    "\n",
    "# Rendkívül rossz recall-t ad\n",
    "\n",
    "print(metrics.classification_report(test_y, test_mlp2(\"logistic\")))"
   ]
  },
  {
   "cell_type": "code",
   "execution_count": 54,
   "metadata": {},
   "outputs": [
    {
     "name": "stdout",
     "output_type": "stream",
     "text": [
      "             precision    recall  f1-score   support\n",
      "\n",
      "          0       0.96      0.93      0.94       282\n",
      "          1       0.93      0.96      0.95       304\n",
      "\n",
      "avg / total       0.95      0.95      0.95       586\n",
      "\n"
     ]
    }
   ],
   "source": [
    "# Tangens hiperbolikusz\n",
    "\n",
    "# Ez is az eddigiekhez hasonlóan teljesít\n",
    "\n",
    "print(metrics.classification_report(test_y, test_mlp2(\"tanh\")))"
   ]
  },
  {
   "cell_type": "markdown",
   "metadata": {},
   "source": [
    "# Harmadik kísérlet: Random Forest"
   ]
  },
  {
   "cell_type": "code",
   "execution_count": 56,
   "metadata": {},
   "outputs": [
    {
     "name": "stdout",
     "output_type": "stream",
     "text": [
      "             precision    recall  f1-score   support\n",
      "\n",
      "          0       0.91      0.97      0.94       282\n",
      "          1       0.97      0.91      0.94       304\n",
      "\n",
      "avg / total       0.94      0.94      0.94       586\n",
      "\n"
     ]
    }
   ],
   "source": [
    "# A Random Forest módszer döntésfákat alkalmaz a tanítóadatok részhalmazaira\n",
    "\n",
    "from sklearn.ensemble import RandomForestClassifier\n",
    "\n",
    "# Paraméterek: \n",
    "# est - fák száma\n",
    "# mf - részhalmaz méretezése\n",
    "# md - döntésfák mélysége\n",
    "\n",
    "def train_random_forest(est, mf, md):\n",
    "    model_pipeline = Pipeline([('cnts', CountVectorizer()),\n",
    "                               ('tfidf', TfidfTransformer()),\n",
    "                               ('clf', RandomForestClassifier(random_state=42,\n",
    "                                                             n_estimators=est, max_features=mf, max_depth=md))])\n",
    "    \n",
    "    model_pipeline.fit(train_X, train_y)\n",
    "    \n",
    "    return model_pipeline\n",
    "\n",
    "def test_random_forest(est, mf, md):\n",
    "    model = train_random_forest(est, mf, md)\n",
    "    predictions = model.predict(test_X)\n",
    "    \n",
    "    return predictions\n",
    "    \n",
    "# Default értékek    \n",
    "print(metrics.classification_report(test_y, test_random_forest(10, \"auto\", None)))"
   ]
  },
  {
   "cell_type": "code",
   "execution_count": 59,
   "metadata": {},
   "outputs": [
    {
     "name": "stdout",
     "output_type": "stream",
     "text": [
      "             precision    recall  f1-score   support\n",
      "\n",
      "          0       0.94      0.98      0.96       282\n",
      "          1       0.98      0.94      0.96       304\n",
      "\n",
      "avg / total       0.96      0.96      0.96       586\n",
      "\n",
      "             precision    recall  f1-score   support\n",
      "\n",
      "          0       0.94      0.98      0.96       282\n",
      "          1       0.98      0.94      0.96       304\n",
      "\n",
      "avg / total       0.96      0.96      0.96       586\n",
      "\n",
      "             precision    recall  f1-score   support\n",
      "\n",
      "          0       0.93      0.99      0.96       282\n",
      "          1       0.99      0.93      0.96       304\n",
      "\n",
      "avg / total       0.96      0.96      0.96       586\n",
      "\n",
      "             precision    recall  f1-score   support\n",
      "\n",
      "          0       0.94      0.98      0.96       282\n",
      "          1       0.98      0.94      0.96       304\n",
      "\n",
      "avg / total       0.96      0.96      0.96       586\n",
      "\n"
     ]
    }
   ],
   "source": [
    "# Kísérletezés a paraméterekkel\n",
    "\n",
    "# Növeljük meg a fák számát:\n",
    "\n",
    "print(metrics.classification_report(test_y, test_random_forest(20, \"auto\", None)))\n",
    "\n",
    "print(metrics.classification_report(test_y, test_random_forest(30, \"auto\", None)))\n",
    "\n",
    "print(metrics.classification_report(test_y, test_random_forest(50, \"auto\", None)))\n",
    "\n",
    "print(metrics.classification_report(test_y, test_random_forest(100, \"auto\", None)))\n",
    "\n",
    "# Úgy látszik egy pici javulást el lehet érni de egy értéken felül nem hasznos"
   ]
  },
  {
   "cell_type": "code",
   "execution_count": 61,
   "metadata": {},
   "outputs": [
    {
     "name": "stdout",
     "output_type": "stream",
     "text": [
      "             precision    recall  f1-score   support\n",
      "\n",
      "          0       0.88      0.98      0.93       282\n",
      "          1       0.98      0.88      0.93       304\n",
      "\n",
      "avg / total       0.93      0.93      0.93       586\n",
      "\n",
      "             precision    recall  f1-score   support\n",
      "\n",
      "          0       0.93      0.98      0.95       282\n",
      "          1       0.98      0.93      0.95       304\n",
      "\n",
      "avg / total       0.95      0.95      0.95       586\n",
      "\n"
     ]
    }
   ],
   "source": [
    "# Max features tesztelése:\n",
    "\n",
    "print(metrics.classification_report(test_y, test_random_forest(20, \"log2\", None)))\n",
    "\n",
    "# Ez rosszabb recallhoz vezet\n",
    "\n",
    "print(metrics.classification_report(test_y, test_random_forest(20, None, None)))\n",
    "\n",
    "# \"None\" esetén 1%-al jobb mint default"
   ]
  },
  {
   "cell_type": "code",
   "execution_count": 67,
   "metadata": {},
   "outputs": [
    {
     "name": "stdout",
     "output_type": "stream",
     "text": [
      "             precision    recall  f1-score   support\n",
      "\n",
      "          0       0.68      0.91      0.78       282\n",
      "          1       0.88      0.61      0.72       304\n",
      "\n",
      "avg / total       0.78      0.75      0.75       586\n",
      "\n",
      "             precision    recall  f1-score   support\n",
      "\n",
      "          0       0.73      0.95      0.83       282\n",
      "          1       0.94      0.67      0.79       304\n",
      "\n",
      "avg / total       0.84      0.81      0.81       586\n",
      "\n",
      "             precision    recall  f1-score   support\n",
      "\n",
      "          0       0.78      0.96      0.86       282\n",
      "          1       0.95      0.74      0.83       304\n",
      "\n",
      "avg / total       0.87      0.85      0.85       586\n",
      "\n",
      "             precision    recall  f1-score   support\n",
      "\n",
      "          0       0.82      0.98      0.90       282\n",
      "          1       0.98      0.81      0.88       304\n",
      "\n",
      "avg / total       0.91      0.89      0.89       586\n",
      "\n",
      "             precision    recall  f1-score   support\n",
      "\n",
      "          0       0.84      0.97      0.90       282\n",
      "          1       0.97      0.83      0.89       304\n",
      "\n",
      "avg / total       0.91      0.90      0.90       586\n",
      "\n",
      "             precision    recall  f1-score   support\n",
      "\n",
      "          0       0.91      0.98      0.94       282\n",
      "          1       0.98      0.91      0.94       304\n",
      "\n",
      "avg / total       0.95      0.94      0.94       586\n",
      "\n",
      "             precision    recall  f1-score   support\n",
      "\n",
      "          0       0.93      0.97      0.95       282\n",
      "          1       0.97      0.93      0.95       304\n",
      "\n",
      "avg / total       0.95      0.95      0.95       586\n",
      "\n",
      "             precision    recall  f1-score   support\n",
      "\n",
      "          0       0.93      0.98      0.96       282\n",
      "          1       0.98      0.93      0.96       304\n",
      "\n",
      "avg / total       0.96      0.96      0.96       586\n",
      "\n",
      "             precision    recall  f1-score   support\n",
      "\n",
      "          0       0.94      0.98      0.96       282\n",
      "          1       0.98      0.94      0.96       304\n",
      "\n",
      "avg / total       0.96      0.96      0.96       586\n",
      "\n"
     ]
    }
   ],
   "source": [
    "# Fa mélység tesztelése:\n",
    "\n",
    "print(metrics.classification_report(test_y, test_random_forest(20, \"auto\", 1)))\n",
    "\n",
    "print(metrics.classification_report(test_y, test_random_forest(20, \"auto\", 2)))\n",
    "\n",
    "print(metrics.classification_report(test_y, test_random_forest(20, \"auto\", 5)))\n",
    "\n",
    "print(metrics.classification_report(test_y, test_random_forest(20, \"auto\", 10)))\n",
    "\n",
    "print(metrics.classification_report(test_y, test_random_forest(20, \"auto\", 20)))\n",
    "\n",
    "print(metrics.classification_report(test_y, test_random_forest(20, \"auto\", 40)))\n",
    "\n",
    "print(metrics.classification_report(test_y, test_random_forest(20, \"auto\", 80)))\n",
    "\n",
    "print(metrics.classification_report(test_y, test_random_forest(20, \"auto\", 150)))\n",
    "\n",
    "print(metrics.classification_report(test_y, test_random_forest(20, \"auto\", 300)))"
   ]
  },
  {
   "cell_type": "code",
   "execution_count": 71,
   "metadata": {},
   "outputs": [
    {
     "name": "stdout",
     "output_type": "stream",
     "text": [
      "             precision    recall  f1-score   support\n",
      "\n",
      "          0       0.93      0.98      0.95       282\n",
      "          1       0.98      0.93      0.95       304\n",
      "\n",
      "avg / total       0.95      0.95      0.95       586\n",
      "\n",
      "             precision    recall  f1-score   support\n",
      "\n",
      "          0       0.93      0.98      0.95       282\n",
      "          1       0.98      0.93      0.95       304\n",
      "\n",
      "avg / total       0.95      0.95      0.95       586\n",
      "\n",
      "             precision    recall  f1-score   support\n",
      "\n",
      "          0       0.93      0.98      0.95       282\n",
      "          1       0.98      0.93      0.95       304\n",
      "\n",
      "avg / total       0.95      0.95      0.95       586\n",
      "\n"
     ]
    }
   ],
   "source": [
    "# Próbáljuk ki hogy a nagy mélységet kombináljuk a \"None\" beállítású \"Max Features\"-el\n",
    "\n",
    "print(metrics.classification_report(test_y, test_random_forest(20, None, 200)))\n",
    "\n",
    "print(metrics.classification_report(test_y, test_random_forest(20, None, 300)))\n",
    "\n",
    "print(metrics.classification_report(test_y, test_random_forest(20, None, 400)))\n",
    "\n",
    "# Nem javít a korábbiakon"
   ]
  },
  {
   "cell_type": "code",
   "execution_count": null,
   "metadata": {
    "collapsed": true
   },
   "outputs": [],
   "source": []
  }
 ],
 "metadata": {
  "celltoolbar": "Raw Cell Format",
  "kernelspec": {
   "display_name": "Python 3",
   "language": "python",
   "name": "python3"
  },
  "language_info": {
   "codemirror_mode": {
    "name": "ipython",
    "version": 3
   },
   "file_extension": ".py",
   "mimetype": "text/x-python",
   "name": "python",
   "nbconvert_exporter": "python",
   "pygments_lexer": "ipython3",
   "version": "3.6.1"
  }
 },
 "nbformat": 4,
 "nbformat_minor": 1
}
