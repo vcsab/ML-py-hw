{
 "cells": [
  {
   "cell_type": "code",
   "execution_count": 11,
   "metadata": {
    "scrolled": false
   },
   "outputs": [
    {
     "name": "stdout",
     "output_type": "stream",
     "text": [
      "Train set:  (1367, 4)\n",
      "Test set:  (586, 4)\n",
      "\n",
      "Recall: 0.7272727272727273\n",
      "Precision: 0.5295508274231678\n",
      "F1 score: 0.612859097127223\n"
     ]
    }
   ],
   "source": [
    "import numpy as np\n",
    "import random\n",
    "import csv\n",
    "\n",
    "data = []\n",
    "\n",
    "# Betöltés\n",
    "with open('data.csv','r', encoding=\"utf-8\") as f:\n",
    "    csvreader = csv.DictReader(f)\n",
    "    for item in csvreader:\n",
    "        data.append([ item['DATE'], item['AUTHOR'], item['CONTENT'], item['CLASS'] ])\n",
    "\n",
    "# A 'data' tömb elemei: ['dátum string', 'szerző', 'komment', 'osztály cimke ('0': nem spam, '1': spam)']\n",
    "        \n",
    "# Train/test szétválasztás\n",
    "split = 0.7\n",
    "data = np.asarray(data)\n",
    "perm = np.random.permutation(len(data))\n",
    "\n",
    "train = data[perm][0:int(len(data)*split)]\n",
    "test = data[perm][int(len(data)*split):]\n",
    "\n",
    "print('Train set: ', np.shape(train))\n",
    "print('Test set: ', np.shape(test))\n",
    "\n",
    "# Buta osztályozó\n",
    "def dumb_classify(data):\n",
    "    threshold = 0.3\n",
    "    if random.random() > threshold:\n",
    "        return '1'\n",
    "    else:\n",
    "        return '0'\n",
    "\n",
    "\n",
    "# Használd a 'train' adatokat az osztályozó módszer kidolgozására, a 'test' adatokat kiértékelésére!\n",
    "# Lehetőleg használj gépi tanulást!\n",
    "# Dokumentáld az érdekesnek tartott kísérleteket is!\n",
    "\n",
    "# Példa kiértékelés 'recall' számításával. \n",
    "# Kérdés: Milyen egyéb metrikát használnál kiértékelésre és miért? \n",
    "\n",
    "# Kibővítve\n",
    "\n",
    "sum_positive = 0\n",
    "# True Positive\n",
    "found_positive = 0\n",
    "sum_negative = 0\n",
    "# True Negative\n",
    "found_negative = 0\n",
    "\n",
    "false_negative = 0\n",
    "false_positive = 0\n",
    "\n",
    "for datapoint in test:\n",
    "    if datapoint[-1] == '1':\n",
    "        sum_positive += 1\n",
    "        if dumb_classify(datapoint) == '1':\n",
    "            found_positive += 1\n",
    "        else:\n",
    "            false_negative += 1\n",
    "    else:\n",
    "        sum_negative += 1\n",
    "        if dumb_classify(datapoint) == '0':\n",
    "            found_negative += 1\n",
    "        else:\n",
    "            false_positive += 1\n",
    "            \n",
    "# A Recall megmutatja hogy az osztályozó mekkora eséllyel ismeri fel a releváns elemeket   \n",
    "rnd_rec = found_positive / sum_positive\n",
    "print('\\nRecall:', rnd_rec)\n",
    "\n",
    "# Egyéb metrika:\n",
    "\n",
    "# Precision\n",
    "# Ez a metrika mutatja hogy az osztályozó mely esetekben ismerte fel helyesen a relevánsnak talált elemeket\n",
    "rnd_prec = found_positive / (found_positive + false_positive)\n",
    "print('Precision:', rnd_prec)\n",
    "\n",
    "# F1 score\n",
    "# Ez mutatja hogy milyen jól teljesít osztályozó az összes elemet figyelembe véve\n",
    "rnd_f1 = 2 * (rnd_prec * rnd_rec) / (rnd_prec + rnd_rec)\n",
    "print('F1 score:', rnd_f1 )"
   ]
  },
  {
   "cell_type": "markdown",
   "metadata": {
    "raw_mimetype": "text/markdown"
   },
   "source": [
    "# Első kísérlet: SVM"
   ]
  },
  {
   "cell_type": "code",
   "execution_count": 13,
   "metadata": {},
   "outputs": [
    {
     "name": "stdout",
     "output_type": "stream",
     "text": [
      "             precision    recall  f1-score   support\n",
      "\n",
      "          0       0.95      0.97      0.96       278\n",
      "          1       0.97      0.95      0.96       308\n",
      "\n",
      "avg / total       0.96      0.96      0.96       586\n",
      "\n"
     ]
    }
   ],
   "source": [
    "# X és y előállítása\n",
    "# X a tanuló adatokat tartalmazza\n",
    "# A nekünk fontos adat a kommentek szövege (CONTENT)\n",
    "# y a klasszifikáció, jelen esetben hogy spam-e vagy nem (CLASS)\n",
    "\n",
    "train_X = []\n",
    "train_y = []\n",
    "test_X = []\n",
    "test_y = []\n",
    "\n",
    "def loader(dataset, A, b):\n",
    "    for item in dataset:\n",
    "        A.append(item[2])\n",
    "        b.append(item[3])\n",
    "    \n",
    "loader(train, train_X, train_y)\n",
    "loader(test, test_X, test_y)\n",
    "\n",
    "# SVM\n",
    "\n",
    "from sklearn import metrics, svm\n",
    "from sklearn.pipeline import Pipeline\n",
    "from sklearn.feature_extraction.text import CountVectorizer\n",
    "from sklearn.feature_extraction.text import CountVectorizer, TfidfVectorizer, TfidfTransformer\n",
    "\n",
    "# Pipeline segítségével összefűzhetjük a szükséges átalakításokat\n",
    "# Jelen esetben a kommenteket fel kell bontani szavakra (tokenizálás) és ezeknek a szavaknak a vektorára van szükség\n",
    "# Ezután megvizsgáljuk az egyes szavak gyakoriságát\n",
    "# Az SVM ezek segítségével egy olyan modellt alkot meg ami azt vizsgálja, \n",
    "# hogy milyen szavak fordulnak elő gyakran a spam kommentekben\n",
    "\n",
    "# A modell betanítása\n",
    "def train_svm(kernel=\"linear\"):\n",
    "    model_pipeline = Pipeline([('cnts', CountVectorizer()),\n",
    "                               ('tfidf', TfidfTransformer()),\n",
    "                               ('clf', svm.SVC(kernel=kernel, random_state=42))])\n",
    "    \n",
    "    model_pipeline.fit(train_X, train_y)\n",
    "    \n",
    "    return model_pipeline\n",
    "\n",
    "# A modell alkalmazása\n",
    "# Itt a tanítóhalmazon betanított modellt alkalmazzuk a teszthalmazra\n",
    "def test_svm(kernel=\"linear\"):\n",
    "    model = train_svm(kernel=kernel)\n",
    "    predictions = model.predict(test_X)\n",
    "    \n",
    "    return predictions\n",
    "\n",
    "# Metrikák\n",
    "print(metrics.classification_report(test_y, test_svm(\"linear\")))"
   ]
  },
  {
   "cell_type": "code",
   "execution_count": null,
   "metadata": {
    "collapsed": true
   },
   "outputs": [],
   "source": []
  }
 ],
 "metadata": {
  "celltoolbar": "Raw Cell Format",
  "kernelspec": {
   "display_name": "Python 3",
   "language": "python",
   "name": "python3"
  },
  "language_info": {
   "codemirror_mode": {
    "name": "ipython",
    "version": 3
   },
   "file_extension": ".py",
   "mimetype": "text/x-python",
   "name": "python",
   "nbconvert_exporter": "python",
   "pygments_lexer": "ipython3",
   "version": "3.6.1"
  }
 },
 "nbformat": 4,
 "nbformat_minor": 2
}
